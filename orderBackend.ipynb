{
 "cells": [
  {
   "cell_type": "code",
   "execution_count": 37,
   "id": "f2a40693",
   "metadata": {},
   "outputs": [],
   "source": [
    "import json\n",
    "import time\n",
    "from kafka3 import KafkaProducer"
   ]
  },
  {
   "cell_type": "code",
   "execution_count": 40,
   "id": "0c45d60e",
   "metadata": {},
   "outputs": [],
   "source": [
    "# producer properties\n",
    "bootstrap_server = 'localhost:9092'\n",
    "ORDER_KAFKA_TOPIC = 'order_details'\n",
    "ORDER_LIMIT = 2000"
   ]
  },
  {
   "cell_type": "code",
   "execution_count": 41,
   "id": "c7fa1a80",
   "metadata": {},
   "outputs": [],
   "source": [
    "# create a producer\n",
    "producer = KafkaProducer(bootstrap_servers=bootstrap_server)"
   ]
  },
  {
   "cell_type": "code",
   "execution_count": 46,
   "id": "67ee969c",
   "metadata": {},
   "outputs": [],
   "source": [
    "# send an order every 10s\n",
    "for i in range(1, ORDER_LIMIT):\n",
    "    data = {\n",
    "        \"order_id\": i,\n",
    "        \"user_id\": f\"tom_{i}\",\n",
    "        \"total_cost\": i + 5,\n",
    "        \"items\": \"burger, sandwich\"\n",
    "    }\n",
    "    \n",
    "    producer.send(ORDER_KAFKA_TOPIC, json.dumps(data).encode(\"utf-8\"))\n",
    "    time.sleep(10)"
   ]
  },
  {
   "cell_type": "code",
   "execution_count": null,
   "id": "fe20ca64",
   "metadata": {},
   "outputs": [],
   "source": []
  }
 ],
 "metadata": {
  "kernelspec": {
   "display_name": "Python 3 (ipykernel)",
   "language": "python",
   "name": "python3"
  },
  "language_info": {
   "codemirror_mode": {
    "name": "ipython",
    "version": 3
   },
   "file_extension": ".py",
   "mimetype": "text/x-python",
   "name": "python",
   "nbconvert_exporter": "python",
   "pygments_lexer": "ipython3",
   "version": "3.9.13"
  }
 },
 "nbformat": 4,
 "nbformat_minor": 5
}
