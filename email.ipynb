{
 "cells": [
  {
   "cell_type": "code",
   "execution_count": 3,
   "id": "cbb95637",
   "metadata": {},
   "outputs": [],
   "source": [
    "import json \n",
    "from kafka3 import KafkaConsumer, KafkaProducer"
   ]
  },
  {
   "cell_type": "code",
   "execution_count": 6,
   "id": "1a8d6d59",
   "metadata": {},
   "outputs": [],
   "source": [
    "ORDER_CONFIRMED_KAFKA_TOPIC = 'order_confirmed'\n",
    "bootstrap_server = 'localhost:9092'"
   ]
  },
  {
   "cell_type": "code",
   "execution_count": null,
   "id": "641ce2ef",
   "metadata": {},
   "outputs": [],
   "source": [
    "consumer = KafkaConsumer(ORDER_CONFIRMED_KAFKA_TOPIC,\n",
    "                         bootstrap_servers = bootstrap_server)\n"
   ]
  },
  {
   "cell_type": "code",
   "execution_count": null,
   "id": "9adb44ce",
   "metadata": {},
   "outputs": [],
   "source": [
    "emails_sent_so_far = set()\n",
    "print('Gonna start listining')\n",
    "while True:\n",
    "    for message in consumer:\n",
    "        consumer_message = json.loads(message.value.decode())\n",
    "        customer_email = consumer_message['costumer_email']\n",
    "        emails_sent_so_far.add(customer_email)\n",
    "        print(f\"So far email sent to {len(emails_sent_so_far)} unique emails\")"
   ]
  }
 ],
 "metadata": {
  "kernelspec": {
   "display_name": "Python 3 (ipykernel)",
   "language": "python",
   "name": "python3"
  },
  "language_info": {
   "codemirror_mode": {
    "name": "ipython",
    "version": 3
   },
   "file_extension": ".py",
   "mimetype": "text/x-python",
   "name": "python",
   "nbconvert_exporter": "python",
   "pygments_lexer": "ipython3",
   "version": "3.9.13"
  }
 },
 "nbformat": 4,
 "nbformat_minor": 5
}
