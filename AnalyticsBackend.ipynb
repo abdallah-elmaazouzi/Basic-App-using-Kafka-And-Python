{
 "cells": [
  {
   "cell_type": "code",
   "execution_count": 1,
   "id": "3b8821cf",
   "metadata": {},
   "outputs": [],
   "source": [
    "import json\n",
    "from kafka3 import KafkaConsumer"
   ]
  },
  {
   "cell_type": "code",
   "execution_count": 2,
   "id": "8efa8fa0",
   "metadata": {},
   "outputs": [],
   "source": [
    "#Create Consumer\n",
    "ORDER_CONFIRMED_KAFKA_TOPIC = 'order_confirmed'\n",
    "bootstrap_server = 'localhost:9092'\n",
    "\n",
    "consumer = KafkaConsumer(ORDER_CONFIRMED_KAFKA_TOPIC,\n",
    "                         bootstrap_servers = bootstrap_server)\n"
   ]
  },
  {
   "cell_type": "code",
   "execution_count": 3,
   "id": "98a39dfc",
   "metadata": {},
   "outputs": [],
   "source": [
    "#Analytic variables\n",
    "total_orders_count = 0\n",
    "total_revenue = 0"
   ]
  },
  {
   "cell_type": "code",
   "execution_count": null,
   "id": "c9040016",
   "metadata": {},
   "outputs": [
    {
     "name": "stdout",
     "output_type": "stream",
     "text": [
      "Analytics listening..\n",
      "Updating analytics...\n",
      "Orders so far today: 163\n",
      "Revenue so far today: 42054.0\n"
     ]
    }
   ],
   "source": [
    "print(\"Analytics listening..\")\n",
    "while True:\n",
    "    for message in consumer:\n",
    "        print('Updating analytics...')\n",
    "        consumed_message = json.loads(message.value.decode())\n",
    "        total_cost = float(consumed_message['total_cost'])\n",
    "        total_orders_count += 1\n",
    "        total_revenue += total_cost\n",
    "        \n",
    "        print(f'Orders so far today: {total_orders_count}')\n",
    "        print(f'Revenue so far today: {total_revenue}')"
   ]
  },
  {
   "cell_type": "code",
   "execution_count": null,
   "id": "a638b4ae",
   "metadata": {},
   "outputs": [],
   "source": []
  }
 ],
 "metadata": {
  "kernelspec": {
   "display_name": "Python 3 (ipykernel)",
   "language": "python",
   "name": "python3"
  },
  "language_info": {
   "codemirror_mode": {
    "name": "ipython",
    "version": 3
   },
   "file_extension": ".py",
   "mimetype": "text/x-python",
   "name": "python",
   "nbconvert_exporter": "python",
   "pygments_lexer": "ipython3",
   "version": "3.9.13"
  }
 },
 "nbformat": 4,
 "nbformat_minor": 5
}
