{
 "cells": [
  {
   "cell_type": "code",
   "execution_count": 6,
   "id": "a882ca5a",
   "metadata": {},
   "outputs": [],
   "source": [
    "import json \n",
    "from kafka3 import KafkaConsumer, KafkaProducer"
   ]
  },
  {
   "cell_type": "code",
   "execution_count": 7,
   "id": "a70721f7",
   "metadata": {},
   "outputs": [],
   "source": [
    "# Consumer Properties\n",
    "bootstrap_server = 'localhost:9092'\n",
    "ORDER_KAFKA_TOPIC = 'order_details'\n",
    "ORDER_CONFIRMED_KAFKA_TOPIC = 'order_confirmed'"
   ]
  },
  {
   "cell_type": "code",
   "execution_count": 8,
   "id": "f9caf21f",
   "metadata": {},
   "outputs": [],
   "source": [
    "# create consumer & producer\n",
    "consumer = KafkaConsumer(ORDER_KAFKA_TOPIC, bootstrap_servers = bootstrap_server)\n",
    "producer = KafkaProducer(bootstrap_servers = bootstrap_server)"
   ]
  },
  {
   "cell_type": "code",
   "execution_count": null,
   "id": "bf57f5e1",
   "metadata": {},
   "outputs": [],
   "source": [
    "print('Gonna start listening ton receiving messages')\n",
    "while True:\n",
    "    for record in consumer:\n",
    "        consumer_message = json.loads(record.value.decode())\n",
    "        user_id = consumer_message['user_id']\n",
    "        total_cost = consumer_message['total_cost']\n",
    "        data = {\n",
    "            'costumer_id': user_id,\n",
    "            'customer_email': user_id + '@gmail.com',\n",
    "            'total_cost': total_cost\n",
    "        }\n",
    "        print('transaction has done successfully')\n",
    "        \n",
    "        #rewriting to kafka to another topic\n",
    "        producer.send(ORDER_CONFIRMED_KAFKA_TOPIC, json.dumps(data).encode('utf-8'))"
   ]
  }
 ],
 "metadata": {
  "kernelspec": {
   "display_name": "Python 3 (ipykernel)",
   "language": "python",
   "name": "python3"
  },
  "language_info": {
   "codemirror_mode": {
    "name": "ipython",
    "version": 3
   },
   "file_extension": ".py",
   "mimetype": "text/x-python",
   "name": "python",
   "nbconvert_exporter": "python",
   "pygments_lexer": "ipython3",
   "version": "3.9.13"
  }
 },
 "nbformat": 4,
 "nbformat_minor": 5
}
